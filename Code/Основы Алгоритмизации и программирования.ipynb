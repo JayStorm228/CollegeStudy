{
 "cells": [
  {
   "cell_type": "markdown",
   "id": "a7301d23",
   "metadata": {},
   "source": [
    "Разработайте программу, заполняющую список N элементами со случайными значениями. \n",
    "Найдите:\n",
    "1) Максимальное значение\n",
    "2) Минимальное\n",
    "\n"
   ]
  },
  {
   "cell_type": "markdown",
   "id": "0a86fb80",
   "metadata": {},
   "source": [
    "1) Нам необходим список\n",
    "2) Нам необходим цикл, чтобы заполнить список\n",
    "3) Нам необходимы некоторые методы для работы с циклами\n",
    "4) Для всего этого нужны переменные\n"
   ]
  },
  {
   "cell_type": "code",
   "execution_count": null,
   "id": "e8e50712",
   "metadata": {},
   "outputs": [],
   "source": [
    "a1sda1sdasd1 = None\n",
    "type_ = None\n",
    "type(type_)"
   ]
  },
  {
   "cell_type": "markdown",
   "id": "9e81d46e",
   "metadata": {},
   "source": [
    "Правила введения переменных:\n",
    "1) Английская раскладка.\n",
    "2) Не должны начинаться с цифры. Цифра может быть в названии.\n",
    "3) Переменная не должна быть зарезервированным функциональным словом !!!"
   ]
  },
  {
   "cell_type": "code",
   "execution_count": null,
   "id": "455f3bc5",
   "metadata": {},
   "outputs": [
    {
     "name": "stdout",
     "output_type": "stream",
     "text": [
      "<class 'int'> <class 'str'> <class 'float'> <class 'list'> <class 'tuple'> <class 'dict'>\n"
     ]
    }
   ],
   "source": [
    "a = 1 # int - Целое\n",
    "b = 'asdasdsa' # str - Строка\n",
    "c = 1.5 # float - Дробное\n",
    "d = [] # list - Список\n",
    "e = () # tuple - Кортеж\n",
    "f = {} # dict - Словарь\n",
    "print(type(a),type(b), type(c), type(d),type(e),type(f))\n"
   ]
  },
  {
   "cell_type": "markdown",
   "id": "7094e46a",
   "metadata": {},
   "source": [
    "Функция type(<VarName>) вернёт значения ТИПА переменной <VarName>. Принимает в себя только одну переменную "
   ]
  },
  {
   "cell_type": "markdown",
   "id": "6afa738b",
   "metadata": {},
   "source": [
    "В Python есть функции, позволяющие переводить тип данных из одного в другой. \n",
    "Названия этих функция совпадают с типом данных, что очень удобно"
   ]
  },
  {
   "cell_type": "code",
   "execution_count": null,
   "id": "35166335",
   "metadata": {},
   "outputs": [
    {
     "name": "stdout",
     "output_type": "stream",
     "text": [
      "<class 'int'> <class 'str'> <class 'float'> <class 'list'> <class 'tuple'> <class 'dict'>\n"
     ]
    }
   ],
   "source": [
    "a = int() # int - Целое\n",
    "b = str() # str - Строка\n",
    "c = float() # float - Дробное\n",
    "d = list() # list - Список\n",
    "e = tuple() # tuple - Кортеж\n",
    "f = dict() # dict - Словарь\n",
    "print(type(a),type(b), type(c), type(d),type(e),type(f) )"
   ]
  },
  {
   "cell_type": "markdown",
   "id": "ceb9292b",
   "metadata": {},
   "source": [
    "Мы можем делать свои пометки к переменным: какое значение по типу должно, по нашему мнению, должно записаться в эту переменную.\n",
    "С точки зрения кода, эта пометка ни на что не влияет"
   ]
  },
  {
   "cell_type": "code",
   "execution_count": null,
   "id": "ee94a7e9",
   "metadata": {},
   "outputs": [],
   "source": [
    "a:int = int()\n",
    "b:str = str()\n",
    "c:float = float()\n",
    "d:list = list()\n",
    "e:tuple = tuple()\n",
    "f:dict = dict()"
   ]
  },
  {
   "cell_type": "markdown",
   "id": "459b0440",
   "metadata": {},
   "source": [
    "Основные функции:\n",
    "1) range(Lower, Higher, Step) - Вернёт нам последовательность от Lower до Higher с шагом Step\n",
    "\n",
    "    Lower - Нижнее значение: оно входит в нашу последовательность\n",
    "\n",
    "    Higher - Верхнее значение: оно в нашу послеледовательность не входит.\n",
    "\n",
    "    Step - Шаг, с которым мы берём значения.\n",
    "\n",
    "2) input(text) - Попросит ввести значение с клавиатуры. \n",
    "\n",
    "    text - Строка, которая выведется на экран\n",
    "\n",
    "3) UserInput(text, Type) - Попросит ввести значение с клавиатуры, выводя ошибку в случае неправильного ввода.\n",
    "\n",
    "    text - Текст, выводимый на экран\n",
    "\n",
    "    Type - Тип данных, который мы хотим получить\n",
    "\n",
    "4) len(Var) - Вернёт длинну значения Var. Не принимает числа.\n"
   ]
  },
  {
   "cell_type": "code",
   "execution_count": null,
   "id": "51161f65",
   "metadata": {},
   "outputs": [
    {
     "name": "stdout",
     "output_type": "stream",
     "text": [
      "7\n"
     ]
    }
   ],
   "source": [
    "a = [1,1,1,1,1,1,1]\n",
    "print(len(a))\n"
   ]
  },
  {
   "cell_type": "code",
   "execution_count": 32,
   "id": "ddf90833",
   "metadata": {},
   "outputs": [
    {
     "name": "stdout",
     "output_type": "stream",
     "text": [
      "'4,5' не является корректным значением.\n",
      "'aasdasdasd' не является корректным значением.\n",
      "12 <class 'int'>\n"
     ]
    }
   ],
   "source": [
    "from custom_assertions import *\n",
    "a = UserInput('Введите значение: ', int)\n",
    "print(a, type(a))"
   ]
  },
  {
   "cell_type": "code",
   "execution_count": 5,
   "id": "5bdf451c",
   "metadata": {},
   "outputs": [
    {
     "name": "stdout",
     "output_type": "stream",
     "text": [
      "[0, 2, 4, 6, 8]\n"
     ]
    }
   ],
   "source": [
    "Lower = 0\n",
    "Higher = 10\n",
    "Step = 2\n",
    "print([w for w in range(Lower, Higher, Step)])"
   ]
  },
  {
   "cell_type": "markdown",
   "id": "fdc4807b",
   "metadata": {},
   "source": [
    "Обязательным аргументов является только Higher. Остальными можно принебречь."
   ]
  },
  {
   "cell_type": "code",
   "execution_count": null,
   "id": "697a7e39",
   "metadata": {},
   "outputs": [
    {
     "name": "stdout",
     "output_type": "stream",
     "text": [
      "[0, 1, 2, 3, 4, 5, 6, 7, 8, 9]\n"
     ]
    }
   ],
   "source": [
    "Lower = 0 # 0 - поумолчанию\n",
    "Higher = 10\n",
    "Step = 1 # 1 = поумолчанию\n",
    "print([w for w in range(Higher+1)])"
   ]
  },
  {
   "cell_type": "code",
   "execution_count": null,
   "id": "4ac0165f",
   "metadata": {},
   "outputs": [],
   "source": [
    "Lower = 0 # 0 - поумолчанию\n",
    "Higher = 10\n",
    "Step = 1 # 1 = поумолчанию\n",
    "print([w for w in range(Lower, Higher)])"
   ]
  },
  {
   "cell_type": "markdown",
   "id": "28cd16f6",
   "metadata": {},
   "source": [
    "Теперь вкратце про циклы.\n",
    "\n",
    "Их есть всего две штуки: for и while\n",
    "\n",
    "while <Лог. Выражение> - Цикл с условием. Выполняться будет до тех пор, пока значение логического выражения является Истина\n",
    "\n",
    "for <Имя переменной> in <Итерируемый Объект> - Цикл, который вводит переменную, которая поочереди принимает значения из Итерируемого объекта"
   ]
  },
  {
   "cell_type": "markdown",
   "id": "a0c4737b",
   "metadata": {},
   "source": [
    "Алгебра Логики\n",
    "1) and - Логическое Умножение\n",
    "2) or - Логическое Сложение\n",
    "3) not() - Логическое отрицание\n",
    "\n",
    "Базовые операторы:\n",
    "1) == - равенсто\n",
    "2) != - неравно\n",
    "3) \\> больше\n",
    "4) < - меньше"
   ]
  },
  {
   "cell_type": "markdown",
   "id": "808d8090",
   "metadata": {},
   "source": [
    "Математические действия:\n",
    "1) \\+ Сложение\n",
    "2) \\- Вычитание\n",
    "3) / деление\n",
    "4) \\* Умножение\n",
    "5)  // Целочисленное деление. Деление с остатком\n",
    "6) % Остаток от целочисленного деления.\n",
    "7) ** Возведение в степень"
   ]
  },
  {
   "cell_type": "code",
   "execution_count": null,
   "id": "9b771822",
   "metadata": {},
   "outputs": [
    {
     "name": "stdout",
     "output_type": "stream",
     "text": [
      "3\n"
     ]
    }
   ],
   "source": [
    "a = 1\n",
    "a = 2\n",
    "a = 5\n",
    "a = 7\n",
    "a = a+2\n",
    "print(a) # вернёт 9"
   ]
  },
  {
   "cell_type": "markdown",
   "id": "03a4bbd5",
   "metadata": {},
   "source": [
    "Есть другая форма записи этих действий для переменной:\n",
    "\n",
    "+=\n",
    "\n",
    "-=\n",
    "\n",
    "и тд"
   ]
  },
  {
   "cell_type": "code",
   "execution_count": 11,
   "id": "41f187a6",
   "metadata": {},
   "outputs": [
    {
     "name": "stdout",
     "output_type": "stream",
     "text": [
      "7.0\n"
     ]
    }
   ],
   "source": [
    "a = 49\n",
    "a **= 1/2\n",
    "print(a) "
   ]
  },
  {
   "cell_type": "code",
   "execution_count": 12,
   "id": "07fb1710",
   "metadata": {},
   "outputs": [
    {
     "name": "stdout",
     "output_type": "stream",
     "text": [
      "2 1\n",
      "4 2\n",
      "6 3\n",
      "8 4\n",
      "10 5\n"
     ]
    }
   ],
   "source": [
    "counter = 0\n",
    "a = 0\n",
    "\n",
    "while counter != 5:\n",
    "    a += 2\n",
    "    counter += 1\n",
    "    print(a, counter)"
   ]
  },
  {
   "cell_type": "code",
   "execution_count": 14,
   "id": "a267e91f",
   "metadata": {},
   "outputs": [
    {
     "name": "stdout",
     "output_type": "stream",
     "text": [
      "False\n"
     ]
    }
   ],
   "source": [
    "counter = 5\n",
    "a = counter != 5\n",
    "print(a)"
   ]
  },
  {
   "cell_type": "markdown",
   "id": "42a80aca",
   "metadata": {},
   "source": [
    "Проверка условия. Конструкция Ветвление\n",
    "\n",
    "if / else / elif\n",
    "\n",
    "if <Лог. Выражение>:\n",
    "\n",
    "    <Код>\n",
    "\n",
    "elif <Лог. Выражение 2>:\n",
    "\n",
    "    <Код>\n",
    "\n",
    "else:\n",
    "\n",
    "    <код>\n",
    "\n",
    "<код>"
   ]
  },
  {
   "cell_type": "markdown",
   "id": "d5bf9f61",
   "metadata": {},
   "source": [
    "\n",
    "if <Лог. Выражение>: \n",
    "    <Код>\n",
    "\n",
    "if <Лог. Выражение 2>:\n",
    "    <Код>\n",
    "else:\n",
    "    <код>\n",
    "\n",
    "<код>"
   ]
  },
  {
   "cell_type": "code",
   "execution_count": 17,
   "id": "905bbbed",
   "metadata": {},
   "outputs": [
    {
     "name": "stdout",
     "output_type": "stream",
     "text": [
      "0 10\n"
     ]
    }
   ],
   "source": [
    "counter = 5\n",
    "a = 0\n",
    "\n",
    "while counter != 5:\n",
    "    a += 2\n",
    "    counter += 1\n",
    "else: \n",
    "    counter = 10\n",
    "\n",
    "print(a, counter)"
   ]
  },
  {
   "cell_type": "code",
   "execution_count": null,
   "id": "5feaa4d2",
   "metadata": {},
   "outputs": [
    {
     "name": "stdout",
     "output_type": "stream",
     "text": [
      "10 5\n"
     ]
    }
   ],
   "source": [
    "a = 0\n",
    "counter = 0\n",
    "while True:\n",
    "    if counter == 5:\n",
    "        break\n",
    "    counter +=1\n",
    "    a +=2\n",
    "print(a, counter)"
   ]
  },
  {
   "cell_type": "code",
   "execution_count": null,
   "id": "04cbd716",
   "metadata": {},
   "outputs": [
    {
     "name": "stdout",
     "output_type": "stream",
     "text": [
      "45\n"
     ]
    }
   ],
   "source": [
    "\n",
    "a = 0\n",
    "for abd in range(10): \n",
    "    pass\n"
   ]
  },
  {
   "cell_type": "markdown",
   "id": "a192b897",
   "metadata": {},
   "source": [
    "Итерируемые объекты - любая последовательность.\n"
   ]
  },
  {
   "cell_type": "markdown",
   "id": "ff745ebf",
   "metadata": {},
   "source": [
    "Это - строки, списки, словари, таплы..."
   ]
  },
  {
   "cell_type": "code",
   "execution_count": null,
   "id": "b43e19f6",
   "metadata": {},
   "outputs": [
    {
     "name": "stdout",
     "output_type": "stream",
     "text": [
      "a\n",
      "b\n"
     ]
    }
   ],
   "source": [
    "a = [1,2,2,3]\n",
    "for w in a:\n",
    "    print(w)"
   ]
  },
  {
   "cell_type": "markdown",
   "id": "e1112169",
   "metadata": {},
   "source": [
    "В питоне для записи списков используются []. Каждый элемент списка может иметь свой тип данных\n",
    "\n",
    "То бишь в списке одновременно может находится: другой список, кортеж, число, строка и тп."
   ]
  },
  {
   "cell_type": "markdown",
   "id": "61110449",
   "metadata": {},
   "source": [
    "Допустим у нас есть некоторый список, назовём его List. У нас несколько методов изменения этого списка.\n",
    "\n",
    "Формат записи любого метода: (Объект).(Название метода).\n",
    "В нашем случае объектом является наш List.\n",
    "\n",
    "1) List.append(Value)\n",
    "\n",
    "    Добавит значение Value в конец нашего списка.\n",
    "\n",
    "2) List.insert(Index, Value)\n",
    "\n",
    "    Изменит значение по индексу Index на значение Value\n",
    "\n",
    "3) List.extend(list)\n",
    "\n",
    "    Добавит в конец нашего списка ВСЕ значения из списка list\n",
    "\n",
    "4) List.remove(Value)\n",
    "\n",
    "    Удалит первое попавшееся в списке значенение, равное Value\n",
    "\n",
    "5) List.pop(Index)\n",
    "\n",
    "    Удалит из списка значение по индексу Index\n",
    "\n",
    "6) List.Count(Value)\n",
    "\n",
    "    Посчитает все значения Value, встречающиеся в списке. Вернёт их количество.\n",
    "\n",
    "7) List.sort() или sorted(List) - лучше использовать второе\n",
    "\n",
    "    Отсортирует список по возрастанию\n",
    "\n",
    "8) List.index(Value)\n",
    "\n",
    "    Вернёт индекс первого попавшегося элемента со значением Value\n"
   ]
  },
  {
   "cell_type": "markdown",
   "id": "17b1e696",
   "metadata": {},
   "source": []
  }
 ],
 "metadata": {
  "kernelspec": {
   "display_name": ".venv",
   "language": "python",
   "name": "python3"
  },
  "language_info": {
   "codemirror_mode": {
    "name": "ipython",
    "version": 3
   },
   "file_extension": ".py",
   "mimetype": "text/x-python",
   "name": "python",
   "nbconvert_exporter": "python",
   "pygments_lexer": "ipython3",
   "version": "3.13.7"
  }
 },
 "nbformat": 4,
 "nbformat_minor": 5
}
